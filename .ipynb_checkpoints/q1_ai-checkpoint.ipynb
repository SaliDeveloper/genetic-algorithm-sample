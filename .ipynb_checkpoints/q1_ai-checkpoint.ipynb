{
 "cells": [
  {
   "cell_type": "markdown",
   "metadata": {},
   "source": [
    "# AI - CA1\n",
    "\n",
    "#### Mohammad Mahdi Salmani (810102174)"
   ]
  },
  {
   "cell_type": "markdown",
   "metadata": {},
   "source": [
    "1. initialize parameters:"
   ]
  },
  {
   "cell_type": "code",
   "execution_count": 1,
   "metadata": {},
   "outputs": [],
   "source": [
    "# Genetic Algorithm Parameters\n",
    "population_size = 10000\n",
    "num_generations = 100\n",
    "mutation_rate = 0.2"
   ]
  },
  {
   "cell_type": "markdown",
   "metadata": {},
   "source": [
    "2. Get polynomial degree and range of coefficients:"
   ]
  },
  {
   "cell_type": "code",
   "execution_count": 2,
   "metadata": {},
   "outputs": [
    {
     "name": "stdout",
     "output_type": "stream",
     "text": [
      "Polynomial degree:  4\n",
      "Range of coefficients: (-10, 10)\n"
     ]
    }
   ],
   "source": [
    "n = int(input())\n",
    "print(\"Polynomial degree: \",n)\n",
    "\n",
    "lowerLimit, upperLimit = [int(x) for x in input().split()]\n",
    "print(\"Range of coefficients: (%d, %d)\"%(lowerLimit,upperLimit))"
   ]
  },
  {
   "cell_type": "markdown",
   "metadata": {},
   "source": [
    "3. Get dataset:"
   ]
  },
  {
   "cell_type": "code",
   "execution_count": 3,
   "metadata": {},
   "outputs": [
    {
     "name": "stdout",
     "output_type": "stream",
     "text": [
      "Enter empty space to end entries.\n",
      "Sample points:  [(0, 1), (1, 0), (2, -5), (-1, -8), (5, 16)]\n"
     ]
    }
   ],
   "source": [
    "samplePoints = []\n",
    "# Exp: \n",
    "# 0  1\n",
    "# 2 -5\n",
    "# ...\n",
    "# samplePoints = [(0, 1), (1, 0), (2, -5), (-1, -8), (5, 16)]\n",
    "print('Enter empty space to end entries.')\n",
    "while True:\n",
    "    point = tuple(int(x) for x in input().split())\n",
    "    if len(point) != 2:\n",
    "        break\n",
    "    samplePoints.append(point)\n",
    "print(\"Sample points: \", samplePoints)"
   ]
  },
  {
   "cell_type": "markdown",
   "metadata": {},
   "source": [
    "4. calculate MSE as fitness function"
   ]
  },
  {
   "cell_type": "code",
   "execution_count": 4,
   "metadata": {},
   "outputs": [],
   "source": [
    "def calcTarget(x: int, coefficients: tuple[int]):\n",
    "    result = 0\n",
    "    for i in range(len(coefficients)):\n",
    "        result += coefficients[i] * (x ** i)\n",
    "    return result\n",
    "\n",
    "def fitnessFunction(coefficients: tuple[int]):\n",
    "    result = 0\n",
    "    for x,y in samplePoints:\n",
    "        result += (y - calcTarget(x, coefficients)) ** 2\n",
    "    return result / len(samplePoints)\n"
   ]
  },
  {
   "cell_type": "markdown",
   "metadata": {},
   "source": [
    "5. generate first population"
   ]
  },
  {
   "cell_type": "code",
   "execution_count": 5,
   "metadata": {},
   "outputs": [],
   "source": [
    "import random\n",
    "\n",
    "chromosomes = [[random.randint(lowerLimit, upperLimit) for _ in range(n)] for _ in range(population_size)]\n"
   ]
  },
  {
   "cell_type": "markdown",
   "metadata": {},
   "source": [
    "6. define crossover function"
   ]
  },
  {
   "cell_type": "code",
   "execution_count": 6,
   "metadata": {},
   "outputs": [],
   "source": [
    "def crossoverFunction(parent1: tuple[int], parent2: tuple[int]):\n",
    "    return [random.choice([parent1[i], parent2[i]]) for i in range(n)]  # Crossover"
   ]
  },
  {
   "cell_type": "markdown",
   "metadata": {},
   "source": [
    "7. find best solution"
   ]
  },
  {
   "cell_type": "code",
   "execution_count": 8,
   "metadata": {},
   "outputs": [
    {
     "name": "stdout",
     "output_type": "stream",
     "text": [
      "index=  3398 , ch=  [1, 3, -5, 1]\n",
      "Fitted Polynomial: y = 1 + 3 x^1 - 5 x^2 + 1 x^3\n"
     ]
    }
   ],
   "source": [
    "def findBestSolution(chromosomes:list[list[int]]):\n",
    "    for _ in range(num_generations):\n",
    "        fitness_scores = [fitnessFunction(coefficients) for coefficients in chromosomes]\n",
    "        if 0 in fitness_scores:\n",
    "            index= fitness_scores.index(0)\n",
    "            print('index= ',index,', ch= ',chromosomes[index])\n",
    "            return chromosomes[index]\n",
    "        weights=[int(1+(50 / score)) for score in fitness_scores]\n",
    "        # print('weight: ',weights)\n",
    "        selected_parents = random.choices(chromosomes, weights=weights, k=population_size)\n",
    "        # print(\"fitness_scores: \",int(sum(fitness_scores)))\n",
    "        offspring = []\n",
    "        for _ in range(population_size):\n",
    "            parent1, parent2 = random.sample(selected_parents, 2)\n",
    "            child = crossoverFunction(parent1,parent2)  # Crossover\n",
    "            if random.random() < mutation_rate:\n",
    "                child[random.randint(0, len(child)-1)] = random.randint(lowerLimit, upperLimit) # Mutation\n",
    "            offspring.append(child)\n",
    "        chromosomes = offspring\n",
    "        best_solution = min(chromosomes, key=lambda coefficients: fitnessFunction(coefficients))\n",
    "    return best_solution\n",
    "\n",
    "best_solution = findBestSolution(chromosomes=chromosomes)\n",
    "print(f\"Fitted Polynomial: y = {best_solution[0]} +\",' + '.join([f'{best_solution[i]} x^{i}' for i in range(1,len(best_solution))]).replace('+ -','- '))"
   ]
  },
  {
   "cell_type": "markdown",
   "metadata": {},
   "source": []
  }
 ],
 "metadata": {
  "kernelspec": {
   "display_name": "Python 3",
   "language": "python",
   "name": "python3"
  },
  "language_info": {
   "codemirror_mode": {
    "name": "ipython",
    "version": 3
   },
   "file_extension": ".py",
   "mimetype": "text/x-python",
   "name": "python",
   "nbconvert_exporter": "python",
   "pygments_lexer": "ipython3",
   "version": "3.10.12"
  }
 },
 "nbformat": 4,
 "nbformat_minor": 2
}
